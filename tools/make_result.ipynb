{
 "nbformat": 4,
 "nbformat_minor": 2,
 "metadata": {
  "language_info": {
   "name": "python",
   "codemirror_mode": {
    "name": "ipython",
    "version": 3
   },
   "version": "3.7.5-final"
  },
  "orig_nbformat": 2,
  "file_extension": ".py",
  "mimetype": "text/x-python",
  "name": "python",
  "npconvert_exporter": "python",
  "pygments_lexer": "ipython3",
  "version": 3,
  "kernelspec": {
   "name": "python37564bitdeepconda32324e1260a143b8964916a18c1f2f29",
   "display_name": "Python 3.7.5 64-bit ('deep': conda)"
  }
 },
 "cells": [
  {
   "cell_type": "code",
   "execution_count": 2,
   "metadata": {},
   "outputs": [],
   "source": [
    "from sklearn import metrics\n",
    "import pandas as pd\n",
    "from pathlib import Path\n",
    "\n",
    "MODEL_NAMES = ['AdaCos']\n",
    "outputs_path = Path('../outputs')\n",
    "\n",
    "def calc_auc(preds, labels):\n",
    "    fpr, tpr, thresholds = metrics.roc_curve(labels, preds)\n",
    "    auc = metrics.auc(fpr, tpr)\n",
    "    return auc\n",
    "\n",
    "def write_result_csv(model, outputs_path):\n",
    "    result_csv_path = outputs_path/'result.csv'\n",
    "    if not result_csv_path.exists():\n",
    "        result_df = pd.DataFrame()\n",
    "    else:\n",
    "        result_df = pd.read_csv(result_csv_path, index_col=0)\n",
    "\n",
    "    model_output_df = pd.read_csv(outputs_path/f'{model}/result.csv')\n",
    "    \n",
    "    for cat, ids in model_output_df.groupby('Category').groups.items():\n",
    "        labels = model_output_df.iloc[ids]['Anomaly']\n",
    "        preds = model_output_df.iloc[ids]['AnomalyScore']\n",
    "        auc = calc_auc(preds, labels)\n",
    "        result_df.loc[cat, model] = auc\n",
    "    result_df.to_csv(result_csv_path)\n",
    "   \n",
    "for model in MODEL_NAMES:\n",
    "    write_result_csv(model, outputs_path)"
   ]
  },
  {
   "cell_type": "code",
   "execution_count": 3,
   "metadata": {},
   "outputs": [
    {
     "data": {
      "text/html": "<div>\n<style scoped>\n    .dataframe tbody tr th:only-of-type {\n        vertical-align: middle;\n    }\n\n    .dataframe tbody tr th {\n        vertical-align: top;\n    }\n\n    .dataframe thead th {\n        text-align: right;\n    }\n</style>\n<table border=\"1\" class=\"dataframe\">\n  <thead>\n    <tr style=\"text-align: right;\">\n      <th></th>\n      <th>AdaCos</th>\n    </tr>\n  </thead>\n  <tbody>\n    <tr>\n      <th>bottle</th>\n      <td>0.945450</td>\n    </tr>\n    <tr>\n      <th>cable</th>\n      <td>0.702128</td>\n    </tr>\n    <tr>\n      <th>capsule</th>\n      <td>0.609030</td>\n    </tr>\n    <tr>\n      <th>carpet</th>\n      <td>0.542263</td>\n    </tr>\n    <tr>\n      <th>grid</th>\n      <td>0.611757</td>\n    </tr>\n    <tr>\n      <th>hazelnut</th>\n      <td>0.704790</td>\n    </tr>\n    <tr>\n      <th>leather</th>\n      <td>0.907118</td>\n    </tr>\n    <tr>\n      <th>metal_nut</th>\n      <td>0.661002</td>\n    </tr>\n    <tr>\n      <th>pill</th>\n      <td>0.656295</td>\n    </tr>\n    <tr>\n      <th>screw</th>\n      <td>0.531996</td>\n    </tr>\n    <tr>\n      <th>tile</th>\n      <td>0.766431</td>\n    </tr>\n    <tr>\n      <th>toothbrush</th>\n      <td>0.801852</td>\n    </tr>\n    <tr>\n      <th>transistor</th>\n      <td>0.775549</td>\n    </tr>\n    <tr>\n      <th>wood</th>\n      <td>0.648340</td>\n    </tr>\n    <tr>\n      <th>zipper</th>\n      <td>0.641652</td>\n    </tr>\n  </tbody>\n</table>\n</div>",
      "text/plain": "              AdaCos\nbottle      0.945450\ncable       0.702128\ncapsule     0.609030\ncarpet      0.542263\ngrid        0.611757\nhazelnut    0.704790\nleather     0.907118\nmetal_nut   0.661002\npill        0.656295\nscrew       0.531996\ntile        0.766431\ntoothbrush  0.801852\ntransistor  0.775549\nwood        0.648340\nzipper      0.641652"
     },
     "execution_count": 3,
     "metadata": {},
     "output_type": "execute_result"
    }
   ],
   "source": [
    "df = pd.read_csv('../outputs/result.csv', index_col=0)\n",
    "df"
   ]
  },
  {
   "cell_type": "code",
   "execution_count": null,
   "metadata": {},
   "outputs": [],
   "source": []
  }
 ]
}